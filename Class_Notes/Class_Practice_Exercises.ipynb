{
 "cells": [
  {
   "cell_type": "markdown",
   "id": "f2272b56",
   "metadata": {},
   "source": [
    "# Class Exercises\n",
    "\n",
    "## Exercise 1: \n",
    "Write a function that takes calculates the sum of numbers from 1 to n, where n is the input. Use a loop to do this and count the number of operations this function takes."
   ]
  },
  {
   "cell_type": "code",
   "execution_count": 11,
   "id": "77414a24",
   "metadata": {},
   "outputs": [
    {
     "name": "stdout",
     "output_type": "stream",
     "text": [
      "55\n"
     ]
    }
   ],
   "source": [
    "def sum(n):\n",
    "    total = 0\n",
    "    for num in range(0,n+1):\n",
    "        total = total + num\n",
    "    return total\n",
    "print(sum(10))\n",
    "        "
   ]
  },
  {
   "cell_type": "markdown",
   "id": "22ddd8eb",
   "metadata": {},
   "source": [
    "## Exercise 4:\n",
    "Given a list ```['a', 'b', 'd', 'g', 'm', 'r']``` Write a function that takes an element as input and returns the index of the element. Use loops and conditionals and count the number of operations this function takes"
   ]
  },
  {
   "cell_type": "code",
   "execution_count": 34,
   "id": "b5121f4f",
   "metadata": {},
   "outputs": [
    {
     "name": "stdout",
     "output_type": "stream",
     "text": [
      "The Current list is:  ['a', 'b', 'd', 'g', 'm', 'r']\n",
      "Enter an element: d\n",
      "The index of your value is:  2\n"
     ]
    }
   ],
   "source": [
    "list = ['a', 'b', 'd', 'g', 'm', 'r']\n",
    "\n",
    "def find(n):               # 1 read\n",
    "    index = 0;             # 1 write\n",
    "    for element in list:   # 1 read, 1 write\n",
    "        index += 1         # 1 read, 1 write\n",
    "        if (n == element): # 2 reads | 6 ops in loop\n",
    "            return index-1 # 1 read\n",
    "        \n",
    "# The number of operations is: 6n + 3 ops  \n",
    "\n",
    "print(\"The Current list is: \", list)\n",
    "value = input(\"Enter an element: \")\n",
    "print(\"The index of your value is: \", find(value))\n",
    "    "
   ]
  },
  {
   "cell_type": "markdown",
   "id": "6cea413f",
   "metadata": {},
   "source": [
    "\n",
    "### Exercise 5\n",
    "Repeat the exercise using a more efficient way and Count the number of operations this function takes"
   ]
  },
  {
   "cell_type": "code",
   "execution_count": 35,
   "id": "d7c9da3a",
   "metadata": {},
   "outputs": [
    {
     "name": "stdout",
     "output_type": "stream",
     "text": [
      "The Current list is:  ['a', 'b', 'd', 'g', 'm', 'r']\n",
      "Enter an element: d\n",
      "The index of your value is:  2\n"
     ]
    }
   ],
   "source": [
    "list = ['a', 'b', 'd', 'g', 'm', 'r']\n",
    "\n",
    "def find(n):                # 1 read\n",
    "    return list.index(n)    # 1 read, 1 write\n",
    "\n",
    "# The number of operations is: 3 ops  \n",
    "\n",
    "print(\"The Current list is: \", list)\n",
    "value = input(\"Enter an element: \")\n",
    "print(\"The index of your value is: \", find(value))\n",
    "    "
   ]
  },
  {
   "cell_type": "markdown",
   "id": "cfcade50",
   "metadata": {},
   "source": [
    "### Exercise 6: Find the asymptotic relationship between $6^n$ and $3^n$\n",
    "\n",
    "$6^n$ is $O(3^n)$\n",
    "\n",
    "$6^n$ is $\\Omega(3^n)$\n",
    "\n",
    "$6^n$ is $\\Theta(3^n)$\n",
    "\n",
    "$0 \\leq c_1 \\times g(n) \\leq 6^n \\leq c_2 \\times g(n), \\forall n \\geq n_0$\n",
    "\n",
    "$0 \\leq c_1 \\times 3^n \\leq 6^n \\leq c_2 \\times 3^n$\n",
    "\n",
    "\n",
    "### $6^n$ is $O(3^n)$?\n",
    "\n",
    "$6^n \\leq c_2 \\times 3^n, \\forall n\\geq n_0$        (1)\n",
    "\n",
    "$6^n = (2\\times3)^n$\n",
    "\n",
    "$6^n = 2^n\\times3^n$\n",
    "\n",
    "$6^n \\leq c_2\\times3^n$ ?\n",
    "\n",
    "Is there a $c_1$ and a $n_0$ so that (1) holds true for $n \\geq n_0$?\n",
    "\n",
    "$6^n \\leq 4 \\times 3^n$ \n",
    "\n",
    "\n",
    "### $6^n$ is $\\Omega(3^n)$?\n",
    "\n",
    "$0 \\leq c_1 \\times 3^n \\leq 6^n, \\forall n\\geq n_0$        (2)\n",
    "\n",
    "$6^n = (2\\times3)^n$\n",
    "\n",
    "$6^n = 2^n\\times3^n$\n",
    "\n",
    "$6^n \\geq c_1\\times3^n$ ?\n",
    "\n",
    "Is there a $c_1$ and a $n_0$ so that (2) holds true for $n \\geq n_0$?"
   ]
  },
  {
   "cell_type": "code",
   "execution_count": 11,
   "id": "ed5c0176",
   "metadata": {},
   "outputs": [
    {
     "data": {
      "text/plain": [
       "59"
      ]
     },
     "execution_count": 11,
     "metadata": {},
     "output_type": "execute_result"
    }
   ],
   "source": [
    "def func1(n):\n",
    "    A = range(0,n)\n",
    "    sum = 0\n",
    "    test = 0\n",
    "    i = 0\n",
    "    for x in A[i:]:\n",
    "        i += 1\n",
    "        for j in range(i, len(A)):\n",
    "            y = A[j]\n",
    "            k = j\n",
    "            while k < len(A):\n",
    "                z = A[k]\n",
    "                k = 2*k\n",
    "                test += 1\n",
    "                if x + y <= z:\n",
    "                    sum += 1\n",
    "    return test\n",
    "func1(10)"
   ]
  },
  {
   "cell_type": "code",
   "execution_count": 10,
   "id": "f0245627",
   "metadata": {},
   "outputs": [
    {
     "data": {
      "text/plain": [
       "1"
      ]
     },
     "execution_count": 10,
     "metadata": {},
     "output_type": "execute_result"
    }
   ],
   "source": [
    "import ctypes\n",
    "class Array(object):\n",
    "    \"\"\"\n",
    "    Implementation of the array data structure\n",
    "    \"\"\"\n",
    "\n",
    "    def __init__(self, n):\n",
    "        \"\"\"\n",
    "        Initialize the class\n",
    "        \"\"\"\n",
    "        self.l = 0\n",
    "        self.n = n\n",
    "        self.array = self._create_array(self.n)        \n",
    "    \n",
    "    def _create_array(self, n):\n",
    "        \"\"\"\n",
    "        Creates a new array of capacity n\n",
    "        \"\"\"\n",
    "        return (n * ctypes.py_object)()\n",
    "    \n",
    "class Array(Array):\n",
    "    def __getitem__(self, item_index):\n",
    "        \"\"\"\n",
    "        Return element at item_index\n",
    "        \"\"\"\n",
    "        if (item_index < 0) or (item_index >= self.n):\n",
    "            raise IndexError('index out of range!')\n",
    "        try:\n",
    "            x = self.array[item_index]\n",
    "        except ValueError:\n",
    "            x = None\n",
    "        return x\n",
    "    \n",
    "    def __setitem__(self, item_index, item):\n",
    "        \"\"\"\n",
    "        Set element at item_index\n",
    "        \"\"\"\n",
    "        if (item_index < 0) or (item_index >= self.n):\n",
    "            raise IndexError('index out of range!')\n",
    "        self.array[item_index] = item\n",
    "    def __init__(self, n, values=None):\n",
    "        self.l = 0\n",
    "        self.n = n\n",
    "        self.array = self._create_array(self.n)\n",
    "        if values:\n",
    "            self.initialize_array(values)\n",
    "            \n",
    "    def initialize_array(self, values):\n",
    "        \"\"\"\n",
    "        Initialize array\n",
    "        \"\"\"\n",
    "        if self.n != len(values):\n",
    "            raise ValueError(\"element count different than capacity\")\n",
    "        for item in values:\n",
    "            self.array[self.l] = item\n",
    "            self.l += 1\n",
    "            \n",
    "    def insert_to_tail(self, item):\n",
    "        \"\"\"\n",
    "        Add new item to the tail of the array\n",
    "        \"\"\"\n",
    "        if self.l == self.n:\n",
    "            raise ValueError(\"no more capacity\")\n",
    "        self.array[self.l] = item\n",
    "        self.l += 1\n",
    "A = Array(1, [1])\n",
    "A[0]\n",
    "        "
   ]
  },
  {
   "cell_type": "code",
   "execution_count": 16,
   "id": "5bfbc60a",
   "metadata": {},
   "outputs": [
    {
     "data": {
      "text/plain": [
       "[2, 1, 3]"
      ]
     },
     "execution_count": 16,
     "metadata": {},
     "output_type": "execute_result"
    }
   ],
   "source": [
    "\n",
    "\n",
    "def count_digits(n):\n",
    "    digits = 0;\n",
    "    number = n;\n",
    "    while number != 0:\n",
    "        digits += 1\n",
    "        number = number//10\n",
    "    return digits\n",
    "\n",
    "\n",
    "def get_array_digit_count(X):\n",
    "    Y = []\n",
    "    for i in X:\n",
    "        Y.append(count_digits(i))\n",
    "    return Y\n",
    "\n",
    "X = [11, 1, 123]\n",
    "get_array_digit_count(X)\n"
   ]
  },
  {
   "cell_type": "code",
   "execution_count": 40,
   "id": "43d979d3",
   "metadata": {},
   "outputs": [
    {
     "data": {
      "text/plain": [
       "True"
      ]
     },
     "execution_count": 40,
     "metadata": {},
     "output_type": "execute_result"
    }
   ],
   "source": [
    "def validate_mountain(M):\n",
    "    top = M[0];\n",
    "    top_index = 0\n",
    "    for i in range(1, len(M)-1):\n",
    "        if (top <= M[i]):\n",
    "            if ( top == M[i]): \n",
    "                return False\n",
    "            else:\n",
    "                top = M[i]\n",
    "                top_index = i\n",
    "        \n",
    "        \n",
    "    for i in range(0, top_index):\n",
    "        if (M[i] > top):\n",
    "            return False\n",
    "    for i in range(top_index, 0):\n",
    "        if (M[i] > top):\n",
    "            return False\n",
    "    return True\n",
    "\n",
    "M1 = [2,3,1]   \n",
    "validate_mountain(M1)"
   ]
  },
  {
   "cell_type": "code",
   "execution_count": 52,
   "id": "815abb12",
   "metadata": {},
   "outputs": [
    {
     "data": {
      "text/plain": [
       "5"
      ]
     },
     "execution_count": 52,
     "metadata": {},
     "output_type": "execute_result"
    }
   ],
   "source": [
    "def get_median(X):\n",
    "    # Sorting Algorithm\n",
    "    length = len(X)\n",
    "    for j in range(1, length):\n",
    "        key = X[j]\n",
    "        i = j - 1\n",
    "        while i >= 0 and X[i]>key:\n",
    "            X[i+1]= X[i]\n",
    "            i = i - 1\n",
    "        X[i + 1] = key\n",
    "\n",
    "    if((length)%2 == 0):\n",
    "        return (X[(length//2)-1]+X[length//2])/2\n",
    "    else:\n",
    "        return X[(length-1)//2]\n",
    "        \n",
    "X= [1,5,4,3,2,6,7,8,9] \n",
    "get_median(X)"
   ]
  },
  {
   "cell_type": "code",
   "execution_count": null,
   "id": "e34e438e",
   "metadata": {},
   "outputs": [],
   "source": []
  }
 ],
 "metadata": {
  "kernelspec": {
   "display_name": "Python 3 (ipykernel)",
   "language": "python",
   "name": "python3"
  },
  "language_info": {
   "codemirror_mode": {
    "name": "ipython",
    "version": 3
   },
   "file_extension": ".py",
   "mimetype": "text/x-python",
   "name": "python",
   "nbconvert_exporter": "python",
   "pygments_lexer": "ipython3",
   "version": "3.9.12"
  }
 },
 "nbformat": 4,
 "nbformat_minor": 5
}
