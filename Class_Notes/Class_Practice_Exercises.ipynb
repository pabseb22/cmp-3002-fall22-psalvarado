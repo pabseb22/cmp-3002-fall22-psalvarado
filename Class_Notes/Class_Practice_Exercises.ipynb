{
 "cells": [
  {
   "cell_type": "markdown",
   "id": "f2272b56",
   "metadata": {},
   "source": [
    "# Class Exercises\n",
    "\n",
    "## Exercise 1: \n",
    "Write a function that takes calculates the sum of numbers from 1 to n, where n is the input. Use a loop to do this and count the number of operations this function takes."
   ]
  },
  {
   "cell_type": "code",
   "execution_count": 11,
   "id": "77414a24",
   "metadata": {},
   "outputs": [
    {
     "name": "stdout",
     "output_type": "stream",
     "text": [
      "55\n"
     ]
    }
   ],
   "source": [
    "def sum(n):\n",
    "    total = 0\n",
    "    for num in range(0,n+1):\n",
    "        total = total + num\n",
    "    return total\n",
    "print(sum(10))\n",
    "        "
   ]
  },
  {
   "cell_type": "markdown",
   "id": "22ddd8eb",
   "metadata": {},
   "source": [
    "## Exercise 4:\n",
    "Given a list ```['a', 'b', 'd', 'g', 'm', 'r']``` Write a function that takes an element as input and returns the index of the element. Use loops and conditionals and count the number of operations this function takes"
   ]
  },
  {
   "cell_type": "code",
   "execution_count": 34,
   "id": "b5121f4f",
   "metadata": {},
   "outputs": [
    {
     "name": "stdout",
     "output_type": "stream",
     "text": [
      "The Current list is:  ['a', 'b', 'd', 'g', 'm', 'r']\n",
      "Enter an element: d\n",
      "The index of your value is:  2\n"
     ]
    }
   ],
   "source": [
    "list = ['a', 'b', 'd', 'g', 'm', 'r']\n",
    "\n",
    "def find(n):               # 1 read\n",
    "    index = 0;             # 1 write\n",
    "    for element in list:   # 1 read, 1 write\n",
    "        index += 1         # 1 read, 1 write\n",
    "        if (n == element): # 2 reads | 6 ops in loop\n",
    "            return index-1 # 1 read\n",
    "        \n",
    "# The number of operations is: 6n + 3 ops  \n",
    "\n",
    "print(\"The Current list is: \", list)\n",
    "value = input(\"Enter an element: \")\n",
    "print(\"The index of your value is: \", find(value))\n",
    "    "
   ]
  },
  {
   "cell_type": "markdown",
   "id": "6cea413f",
   "metadata": {},
   "source": [
    "\n",
    "### Exercise 5\n",
    "Repeat the exercise using a more efficient way and Count the number of operations this function takes"
   ]
  },
  {
   "cell_type": "code",
   "execution_count": 35,
   "id": "d7c9da3a",
   "metadata": {},
   "outputs": [
    {
     "name": "stdout",
     "output_type": "stream",
     "text": [
      "The Current list is:  ['a', 'b', 'd', 'g', 'm', 'r']\n",
      "Enter an element: d\n",
      "The index of your value is:  2\n"
     ]
    }
   ],
   "source": [
    "list = ['a', 'b', 'd', 'g', 'm', 'r']\n",
    "\n",
    "def find(n):                # 1 read\n",
    "    return list.index(n)    # 1 read, 1 write\n",
    "\n",
    "# The number of operations is: 3 ops  \n",
    "\n",
    "print(\"The Current list is: \", list)\n",
    "value = input(\"Enter an element: \")\n",
    "print(\"The index of your value is: \", find(value))\n",
    "    "
   ]
  },
  {
   "cell_type": "markdown",
   "id": "cfcade50",
   "metadata": {},
   "source": [
    "### Exercise 6: Find the asymptotic relationship between $6^n$ and $3^n$\n",
    "\n",
    "$6^n$ is $O(3^n)$\n",
    "\n",
    "$6^n$ is $\\Omega(3^n)$\n",
    "\n",
    "$6^n$ is $\\Theta(3^n)$\n",
    "\n",
    "$0 \\leq c_1 \\times g(n) \\leq 6^n \\leq c_2 \\times g(n), \\forall n \\geq n_0$\n",
    "\n",
    "$0 \\leq c_1 \\times 3^n \\leq 6^n \\leq c_2 \\times 3^n$\n",
    "\n",
    "\n",
    "### $6^n$ is $O(3^n)$?\n",
    "\n",
    "$6^n \\leq c_2 \\times 3^n, \\forall n\\geq n_0$        (1)\n",
    "\n",
    "$6^n = (2\\times3)^n$\n",
    "\n",
    "$6^n = 2^n\\times3^n$\n",
    "\n",
    "$6^n \\leq c_2\\times3^n$ ?\n",
    "\n",
    "Is there a $c_1$ and a $n_0$ so that (1) holds true for $n \\geq n_0$?\n",
    "\n",
    "$6^n \\leq 4 \\times 3^n$ \n",
    "\n",
    "\n",
    "### $6^n$ is $\\Omega(3^n)$?\n",
    "\n",
    "$0 \\leq c_1 \\times 3^n \\leq 6^n, \\forall n\\geq n_0$        (2)\n",
    "\n",
    "$6^n = (2\\times3)^n$\n",
    "\n",
    "$6^n = 2^n\\times3^n$\n",
    "\n",
    "$6^n \\geq c_1\\times3^n$ ?\n",
    "\n",
    "Is there a $c_1$ and a $n_0$ so that (2) holds true for $n \\geq n_0$?"
   ]
  },
  {
   "cell_type": "code",
   "execution_count": 11,
   "id": "ed5c0176",
   "metadata": {},
   "outputs": [
    {
     "data": {
      "text/plain": [
       "59"
      ]
     },
     "execution_count": 11,
     "metadata": {},
     "output_type": "execute_result"
    }
   ],
   "source": [
    "def func1(n):\n",
    "    A = range(0,n)\n",
    "    sum = 0\n",
    "    test = 0\n",
    "    i = 0\n",
    "    for x in A[i:]:\n",
    "        i += 1\n",
    "        for j in range(i, len(A)):\n",
    "            y = A[j]\n",
    "            k = j\n",
    "            while k < len(A):\n",
    "                z = A[k]\n",
    "                k = 2*k\n",
    "                test += 1\n",
    "                if x + y <= z:\n",
    "                    sum += 1\n",
    "    return test\n",
    "func1(10)"
   ]
  },
  {
   "cell_type": "code",
   "execution_count": null,
   "id": "5bfbc60a",
   "metadata": {},
   "outputs": [],
   "source": []
  }
 ],
 "metadata": {
  "kernelspec": {
   "display_name": "Python 3 (ipykernel)",
   "language": "python",
   "name": "python3"
  },
  "language_info": {
   "codemirror_mode": {
    "name": "ipython",
    "version": 3
   },
   "file_extension": ".py",
   "mimetype": "text/x-python",
   "name": "python",
   "nbconvert_exporter": "python",
   "pygments_lexer": "ipython3",
   "version": "3.9.12"
  }
 },
 "nbformat": 4,
 "nbformat_minor": 5
}
