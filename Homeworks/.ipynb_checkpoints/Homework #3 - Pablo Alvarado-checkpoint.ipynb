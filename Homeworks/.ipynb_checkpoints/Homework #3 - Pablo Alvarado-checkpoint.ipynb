{
 "cells": [
  {
   "cell_type": "markdown",
   "id": "ff240ad9",
   "metadata": {},
   "source": [
    "# Homework #3\n",
    "\n",
    "## Pablo Alvarado - 00215547"
   ]
  },
  {
   "cell_type": "markdown",
   "id": "c6a0ddf5",
   "metadata": {},
   "source": [
    "## 1. Merge two sorted lists\n",
    "\n",
    "1. Assume you have two sorted linked lists. Use **recursion** to merge these lists and return a new sorted list. \n",
    "\n",
    "2. Calculate complexity"
   ]
  },
  {
   "cell_type": "markdown",
   "id": "7feb800e",
   "metadata": {},
   "source": [
    "In order to define the merge of two sorted lists with recursion, first we need to break the problem down in smaller sub-problems. Which in this case will be to compare one item of the first item, with one item of the second list and insert the smaller value in the output and call again the recursion in order to continue traversing through the linked list. Where the implementation is as follows:"
   ]
  },
  {
   "cell_type": "code",
   "execution_count": 27,
   "id": "b3ec2e49",
   "metadata": {},
   "outputs": [],
   "source": [
    "import ctypes\n",
    "class Node:\n",
    "    \"\"\"\n",
    "    Implementation of a node\n",
    "    \"\"\"\n",
    "    def __init__(self, val):\n",
    "        self.val = val\n",
    "        self.next_node = None\n",
    "        \n",
    "class Singly_linked_list:\n",
    "    \"\"\"\n",
    "    Implementation of a singly linked list\n",
    "    \"\"\"\n",
    "    def __init__(self, head_node=None):\n",
    "        self.head_node = head_node\n",
    "        \n",
    "    def list_traversed(self):\n",
    "        node = self.head_node\n",
    "        while node:\n",
    "            print(node.val, end=\" \")\n",
    "            node = node.next_node\n",
    "        print(\" \")\n",
    "            \n",
    "    def insert_tail(self, new_node):\n",
    "        node = new_node\n",
    "        if self.head_node is None:\n",
    "            self.head_node = node\n",
    "            return\n",
    "        tail = self.head_node\n",
    "        while tail.next_node:\n",
    "            tail = tail.next_node\n",
    "        tail.next_node = node"
   ]
  },
  {
   "cell_type": "code",
   "execution_count": 18,
   "id": "5031af52",
   "metadata": {},
   "outputs": [
    {
     "name": "stdout",
     "output_type": "stream",
     "text": [
      "List 1\n",
      "1 5 10 15  \n",
      "List 2\n",
      "2 3 12 20 25 27  \n",
      "Resultado\n",
      "1 2 3 5 10 12 15 20 25 27  \n"
     ]
    }
   ],
   "source": [
    "def lists_merge(L1, L2):\n",
    "    \"\"\"\n",
    "    Implementation of two sorted lists merged\n",
    "    \"\"\"\n",
    "    result = Node(0)\n",
    "    print(\"List 1\")\n",
    "    L1.list_traversed()\n",
    "    print(\"List 2\")\n",
    "    L2.list_traversed()\n",
    "    \n",
    "    node1 = L1.head_node\n",
    "    node2 = L2.head_node\n",
    "    \n",
    "    tail = result\n",
    "\n",
    "    while True:\n",
    "        if node1 is None:\n",
    "            tail.next_node = node2\n",
    "            break\n",
    "        if node2 is None:\n",
    "            tail.next_node = node1 \n",
    "            break\n",
    "            \n",
    "        if node1.val <= node2.val:\n",
    "            tail.next_node = node1\n",
    "            node1 = node1.next_node\n",
    "        else:\n",
    "            tail.next_node = node2\n",
    "            node2 = node2.next_node\n",
    "        tail = tail.next_node\n",
    "    \n",
    "    return result.next_node\n",
    "\n",
    "list1 = Singly_linked_list(Node(1))\n",
    "list1.insert_tail(Node(5))\n",
    "list1.insert_tail(Node(10))\n",
    "list1.insert_tail(Node(15))\n",
    " \n",
    "list2 = Singly_linked_list(Node(2))\n",
    "list2.insert_tail(Node(3))\n",
    "list2.insert_tail(Node(12))\n",
    "list2.insert_tail(Node(20))\n",
    "list2.insert_tail(Node(25))\n",
    "list2.insert_tail(Node(27))\n",
    "\n",
    "result = Singly_linked_list(Node(0))\n",
    "result.head_node = lists_merge(list1,list2)\n",
    "\n",
    "print(\"Resultado\")\n",
    "result.list_traversed()\n"
   ]
  },
  {
   "cell_type": "markdown",
   "id": "f6ebd010",
   "metadata": {},
   "source": [
    "### 2. Implement quick sort\n",
    "\n",
    "1. Use the divide and conquer technique to implement the quick sort algorithm studied in class. \n",
    "2. Use a couple of parragraphs to explain the steps of divide and conquer:\n",
    "3. Analyze complexity"
   ]
  },
  {
   "cell_type": "markdown",
   "id": "f468da79",
   "metadata": {},
   "source": [
    "### Solution:\n",
    "In order to apply the Divide and Conquer technique we need to know that it can be divided into three main parts that refer to:\n",
    "1. Divide: This part refers to dividing the problem into smaller sub-problems.\n",
    "2. Conquer: It involves solving the sub-problems by calling recursively the function to solve it.\n",
    "3. Combine: It is the final step that joins all sub-problems solutions to get the final solution of the problem.\n",
    "\n",
    "In this context, we encounter the problem of sorting. Where, quick sort presents as a sorting algorithm that represents all of the Divide and Conquer technique. The general idea of this algorithm is to pick a pivot element and to rearrange the array so that all elements smaller than the picked pivot move to the left side of the pivot, and all greater elements move to the right side. Then, the algorithm recursively sorts the subarrays on the left and right of the pivot element, and finally, it joins all the elements.\n",
    "\n",
    "Which is why the divide and conquer technique applies as follows:\n",
    "\n",
    "1. Divide: In order to avoid sorting the whole array, it separates it by using the pivot in order to get smaller groups to sort.\n",
    "2. Conquer: By calling recursively the function, it continues to divide the array by also sorting it with the use of a pivot, solving every sub-problem of sorting the divided arrays.\n",
    "3. Combine: Finally, as all the sub-problems are already solved with the pivots, the algorithm starts combining the solutions in order to get the whole sorted arrray.\n",
    "\n",
    "Finally, the \"Divide\" part of quickSort is made by a different function that sorts the given array by selecting a defined pivot. \n",
    "\n",
    "### Implementation of QuickSort"
   ]
  },
  {
   "cell_type": "code",
   "execution_count": 15,
   "id": "bff71d0f",
   "metadata": {},
   "outputs": [
    {
     "name": "stdout",
     "output_type": "stream",
     "text": [
      "Initital Array: [2, 13, 24, 5, 6, 10, 8, 9]\n",
      "Result: [2, 5, 6, 8, 9, 10, 13, 24]\n"
     ]
    }
   ],
   "source": [
    "def divide(array, start, end):\n",
    "    \"\"\"\n",
    "    Implementation of the \"Divide\" component in QuickSort\n",
    "    \"\"\"\n",
    "    # Choose the last element as pivot\n",
    "    pivot = array[end]\n",
    "    i = start - 1\n",
    "    \n",
    "    for h in range(start, end):\n",
    "        if array[h] <= pivot:\n",
    "            i = i + 1\n",
    "            # Swapping element at i with element at h\n",
    "            (array[i], array[h]) = (array[h], array[i])\n",
    "  \n",
    "    # Swapping the pivot \n",
    "    (array[i + 1], array[end]) = (array[end], array[i + 1])\n",
    "  \n",
    "    # Return the position from where division is done\n",
    "    return i + 1\n",
    "  \n",
    "  \n",
    "def quick_sort(array, start, end):\n",
    "    \"\"\"\n",
    "    Implementation of Quick Sort\n",
    "    \"\"\"\n",
    "    if start < end:\n",
    "        pi = divide(array, start, end)\n",
    "  \n",
    "        # Recursive call on the left of pivot\n",
    "        quick_sort(array, start, pi - 1)\n",
    "        # Recursive call on the right of pivot\n",
    "        quick_sort(array, pi + 1, end)\n",
    "\n",
    "        \n",
    "array = [2, 13, 24, 5, 6, 10, 8, 9]\n",
    "print(f'Initital Array: {array}')\n",
    "\n",
    "quick_sort(array, 0, len(array) - 1)\n",
    "print(f'Result: {array}')"
   ]
  },
  {
   "cell_type": "markdown",
   "id": "c113533a",
   "metadata": {},
   "source": [
    "Finally, if we analyze its complexity, we encounter with that in the worst case (Pivot is the smallest or the greates value), we have that the complexity will be:  T(n) = T(n-1) + $\\theta(n)$, which is  $O(n^2)$.\n",
    "\n",
    "However, if we analyze the best case (Pivot is always the middle), we have that  T(n) = 2T(n/2) + $\\theta(n)$, which is O(nLogn).\n",
    "\n",
    "This analysis shows us that despite QuickSort not being stable, in most of the cases it will behave not in its worst case, which is why it has became such a reliable method for sorting."
   ]
  },
  {
   "cell_type": "markdown",
   "id": "e06921f6",
   "metadata": {},
   "source": [
    "# 3. Compare quick sort and merge sort\n",
    "\n",
    "1. Generate 1000 random permutations of arrays of integers between 1 to 10000.\n",
    "2. Execute merge sort and quick sort for each of the permutations\n",
    "3. Calculate the execution time of these runs, and compare them using the statistics of the measured executed time.\n",
    "4. Explain the differences. Which algorithm is better? When would you use each?"
   ]
  },
  {
   "cell_type": "markdown",
   "id": "64181b20",
   "metadata": {},
   "source": [
    "### Solution:\n",
    "\n",
    "1. First, we need to generate the implementation to generate the random permutation of integers between 1 to 10000, having the following:"
   ]
  },
  {
   "cell_type": "code",
   "execution_count": 12,
   "id": "7d765d77",
   "metadata": {},
   "outputs": [
    {
     "data": {
      "text/plain": [
       "[[9, 7, 10, 6, 5, 2, 8, 1, 4, 3],\n",
       " [2, 1, 8, 4, 10, 5, 3, 6, 7, 9],\n",
       " [1, 10, 9, 5, 3, 4, 8, 7, 2, 6],\n",
       " [9, 1, 2, 7, 5, 10, 8, 3, 6, 4],\n",
       " [9, 1, 6, 2, 3, 7, 4, 10, 5, 8],\n",
       " [4, 9, 7, 6, 5, 10, 2, 8, 1, 3],\n",
       " [8, 2, 5, 7, 4, 1, 3, 9, 10, 6],\n",
       " [5, 3, 7, 9, 8, 6, 10, 1, 2, 4],\n",
       " [4, 5, 10, 7, 9, 2, 3, 6, 1, 8],\n",
       " [3, 7, 2, 9, 10, 6, 1, 5, 8, 4]]"
      ]
     },
     "execution_count": 12,
     "metadata": {},
     "output_type": "execute_result"
    }
   ],
   "source": [
    "import random\n",
    "def getNumber(v) :\n",
    "    \"\"\"\n",
    "    Function that returns a value of a random index of a given array\n",
    "    \"\"\"\n",
    "    n = len(v)\n",
    "    index = random.randint(0, n - 1)\n",
    "    num = v[index]\n",
    "    v[index], v[n - 1] = v[n - 1], v[index]\n",
    "    v.pop()\n",
    "    return num\n",
    " \n",
    "def getPermutation(length):\n",
    "    \"\"\"\n",
    "    Implementation that returns the random permutation of a given \"length\"\n",
    "    \"\"\"\n",
    "    v = [0] * length\n",
    "    Result = [0]* length\n",
    "    for i in range(length) :\n",
    "        v[i] = i + 1\n",
    "    while(len(v)) :\n",
    "        Result[len(v)] = getNumber(v)\n",
    "    return Result\n",
    "    \n",
    "def generatePermutations(amount, value):\n",
    "    \"\"\"\n",
    "    Main Function to generate a given \"amount\" of random permutations of a given \"value\"\n",
    "    \"\"\"\n",
    "    permutations = [0]*amount\n",
    "    for i in range(amount):\n",
    "        permutations[i] = getPermutation(value)\n",
    "    return permutations\n",
    "    \n",
    " \n",
    "\n",
    "generatePermutations(10, 10)"
   ]
  },
  {
   "cell_type": "markdown",
   "id": "5cd088fa",
   "metadata": {},
   "source": [
    "2. Now, We need to execute merge sort and quick sort for each of the permutations and calculate the execution time of these runs. Which is Why we first need to add its implementations:"
   ]
  },
  {
   "cell_type": "code",
   "execution_count": 10,
   "id": "b6c838b6",
   "metadata": {},
   "outputs": [
    {
     "name": "stdout",
     "output_type": "stream",
     "text": [
      "Initital Array: [1, 55, 7, 2, 13, 24, 5, 6, 10, 8, 9]\n",
      "Result Quick Sort: [1, 2, 5, 6, 7, 8, 9, 10, 13, 24, 55]\n",
      "Result Merge Sort: [1, 2, 5, 6, 7, 8, 9, 10, 13, 24, 55]\n"
     ]
    }
   ],
   "source": [
    "def divide(array, start, end):\n",
    "    \"\"\"\n",
    "    Implementation of the \"Divide\" component in QuickSort\n",
    "    \"\"\"\n",
    "    # Choose the last element as pivot\n",
    "    pivot = array[end]\n",
    "    i = start - 1\n",
    "    \n",
    "    for h in range(start, end):\n",
    "        if array[h] <= pivot:\n",
    "            i = i + 1\n",
    "            # Swapping element at i with element at h\n",
    "            (array[i], array[h]) = (array[h], array[i])\n",
    "  \n",
    "    # Swapping the pivot \n",
    "    (array[i + 1], array[end]) = (array[end], array[i + 1])\n",
    "  \n",
    "    # Return the position from where division is done\n",
    "    return i + 1\n",
    "  \n",
    "  \n",
    "def quick_sort(array, start, end):\n",
    "    \"\"\"\n",
    "    Implementation of Quick Sort\n",
    "    \"\"\"\n",
    "    if start < end:\n",
    "        pi = divide(array, start, end)\n",
    "  \n",
    "        # Recursive call on the left of pivot\n",
    "        quick_sort(array, start, pi - 1)\n",
    "        # Recursive call on the right of pivot\n",
    "        quick_sort(array, pi + 1, end)\n",
    "\n",
    "def merge_sort(nums):\n",
    "    if len(nums) <= 1:\n",
    "        return nums\n",
    "    pivot = int(len(nums) / 2)\n",
    "    left = merge_sort(nums[0:pivot])\n",
    "    right = merge_sort(nums[pivot:])\n",
    "    return merge(left, right)\n",
    "\n",
    "\n",
    "def merge(left, right):\n",
    "    left_pointer = 0\n",
    "    right_pointer = 0\n",
    "    sorted_list = []\n",
    "    while left_pointer < len(left) and right_pointer < len(right):\n",
    "        if left[left_pointer] < right[right_pointer]:\n",
    "            sorted_list.append(left[left_pointer])\n",
    "            left_pointer += 1\n",
    "        else:\n",
    "            sorted_list.append(right[right_pointer])\n",
    "            right_pointer += 1\n",
    "    \n",
    "    sorted_list.extend(left[left_pointer:])\n",
    "    sorted_list.extend(right[right_pointer:])\n",
    "    \n",
    "    return sorted_list\n",
    "\n",
    "array = [1, 55, 7, 2, 13, 24, 5, 6, 10, 8, 9]\n",
    "print(f'Initital Array: {array}')\n",
    "\n",
    "quick_sort(array, 0, len(array) - 1)\n",
    "print(f'Result Quick Sort: {array}')\n",
    "print(f'Result Merge Sort: {merge_sort(array)}')\n"
   ]
  },
  {
   "cell_type": "code",
   "execution_count": 13,
   "id": "16ec9a21",
   "metadata": {},
   "outputs": [
    {
     "name": "stdout",
     "output_type": "stream",
     "text": [
      "Runtime Merge Sort 118.27387189865112\n",
      "Runtime Quick Sort 63.26298522949219\n"
     ]
    }
   ],
   "source": [
    "from time import time\n",
    "def estimate_runtime(function):\n",
    "    \"\"\"\n",
    "    Implementation of function that estimates the runtime of a given function and that will be used as decorator.\n",
    "    \"\"\"\n",
    "    def wrap_f(*args, **kwargs):\n",
    "        t1 = time() #Time in Seconds\n",
    "        result = function(*args, **kwargs)\n",
    "        t2 = time()\n",
    "        return t2-t1\n",
    "    return wrap_f\n",
    "\n",
    "@estimate_runtime\n",
    "def test_runtime_merge_sort(permutations):\n",
    "    for i in permutations:\n",
    "        merge_sort(i)\n",
    "    \n",
    "    \n",
    "@estimate_runtime\n",
    "def test_runtime_quick_sort(permutations):\n",
    "    for i in permutations:\n",
    "        quick_sort(i, 0, len(i) - 1)\n",
    "    \n",
    "def main_function(permutations, length):\n",
    "    random_permutations = generatePermutations(permutations, length)\n",
    "    print(\"Runtime Merge Sort\", test_runtime_merge_sort(random_permutations))\n",
    "    print(\"Runtime Quick Sort\", test_runtime_quick_sort(random_permutations))\n",
    "        \n",
    "main_function(1000, 10000)\n",
    "    "
   ]
  },
  {
   "cell_type": "markdown",
   "id": "062e740a",
   "metadata": {},
   "source": [
    "With the execution time obtained, we can clearly address how Quick Sort has almost half of the time of Merge Sort.\n"
   ]
  },
  {
   "cell_type": "markdown",
   "id": "33fb2448",
   "metadata": {},
   "source": [
    "### Conclusion:\n",
    "\n",
    "Explain the differences. Which algorithm is better? When would you use each?\n",
    "\n",
    "By directly analyzing the running time of both algorithms in 1000 random permutations of arrays of integers between 1 to 10000, we obtained that the better algorithm is clearly Quick Sort, since its running time is almost half of the time that takes for Merge Sort. \n",
    "\n",
    "If we want to decide when to use each algorithm we need to highlight that Merge sort is very efficient for sorting linked lists since linked lists cannot be randomly accessed, and in merge sort, we don’t require random access, while in quicksort, we need to randomly access elements. \n",
    "Also, Quicksort is very efficient for sorting small arrays and it also is more reliable when allocating additional memory is costly since it is an in-place sorting algorithm while merge sort has a space complexity of O(n). Finally, this also depends on that the worst case of quick sort is  $O(n^2)$ and in Merge Sort is only  $O(nlog(n))$.\n",
    "\n"
   ]
  },
  {
   "cell_type": "markdown",
   "id": "ef9be389",
   "metadata": {},
   "source": [
    "# 4. Implement factorials with recursion\n",
    "\n",
    "Recall that a factorial number is defined as:\n",
    "\n",
    "$k! = k \\times (k-1) \\times (k-2) \\times ... \\times 2 \\times 1$\n",
    "\n",
    "For example: $3! = 3 \\times 2 \\times 1 = 6$\n",
    "\n",
    "1. Use recursion to implement the factorial\n",
    "2. Run your code for numbers between 1 and 10000\n",
    "3. Calculate the execution time and plot it. \n",
    "4. What's the complexity?\n",
    "5. Implement memoization to improve the performance of your code\n",
    "6. Measure the runtime when you calculate the factorial for numbers between 1 and 10000.\n",
    "7. What's the complexity of your code using memoization?\n",
    "8. How does the first implementation and the one with memoization compare?"
   ]
  },
  {
   "cell_type": "markdown",
   "id": "1041717f",
   "metadata": {},
   "source": [
    "### 1. First We have the implementation of Factorial with recursion:"
   ]
  },
  {
   "cell_type": "code",
   "execution_count": 6,
   "id": "12b01222",
   "metadata": {},
   "outputs": [
    {
     "name": "stdout",
     "output_type": "stream",
     "text": [
      "The Factorial of  100  is  93326215443944152681699238856266700490715968264381621468592963895217599993229915608941463976156518286253697920827223758251185210916864000000000000000000000000\n"
     ]
    }
   ],
   "source": [
    "def factorial(n):\n",
    "    if n == 0:\n",
    "        return 1\n",
    "    return n * factorial(n-1)\n",
    "\n",
    "def main_function(number):\n",
    "    print(\"The Factorial of \", number, \" is \", factorial(number))\n",
    "    \n",
    "main_function(100)\n"
   ]
  },
  {
   "cell_type": "markdown",
   "id": "2ba96e93",
   "metadata": {},
   "source": [
    "If we analyze the complexity of this implementation we obtain that it is O(n)\n",
    "\n",
    "### 2. Then, we have to analyze its runtime by:"
   ]
  },
  {
   "cell_type": "code",
   "execution_count": 8,
   "id": "2ad77481",
   "metadata": {},
   "outputs": [
    {
     "name": "stdout",
     "output_type": "stream",
     "text": [
      "Process Started\n"
     ]
    },
    {
     "data": {
      "image/png": "[encoded data removed]",
      "text/plain": [
       "<Figure size 648x288 with 1 Axes>"
      ]
     },
     "metadata": {
      "needs_background": "light"
     },
     "output_type": "display_data"
    }
   ],
   "source": [
    "import pandas as pd\n",
    "import numpy as np\n",
    "import matplotlib.pyplot as plt\n",
    "%matplotlib inline \n",
    "from time import time\n",
    "def estimate_runtime(function):\n",
    "    \"\"\"\n",
    "    Implementation of function that estimates the runtime of a given function and that will be used as decorator.\n",
    "    \"\"\"\n",
    "    def wrap_f(*args, **kwargs):\n",
    "        t1 = time()*10**3 #Time in MiliSeconds\n",
    "        result = function(*args, **kwargs)\n",
    "        t2 = time()*10**3\n",
    "        return result, t2-t1\n",
    "    return wrap_f\n",
    "\n",
    "@estimate_runtime\n",
    "def factorial(n):\n",
    "    if n == 0:\n",
    "        return 1\n",
    "    return n * factorial(n-1)\n",
    "\n",
    "# Process for obtaining the running time\n",
    "print(\"Process Started\")\n",
    "runtime = [factorial(x)[1] for x in range (1, 1000)]\n",
    "\n",
    "# Plotting of running times\n",
    "df = pd.DataFrame()\n",
    "df[\"n\"] = [x for x in range (1, 1000)]\n",
    "df[\"Factorial\"] = runtime\n",
    "df.plot(x='n',figsize=(9,4))\n",
    "plt.xlabel('n')\n",
    "plt.grid()"
   ]
  },
  {
   "cell_type": "markdown",
   "id": "c1dda313",
   "metadata": {},
   "source": [
    "### 5. Then, we have the implementation with memoization:"
   ]
  },
  {
   "cell_type": "code",
   "execution_count": 3,
   "id": "1205883e",
   "metadata": {},
   "outputs": [
    {
     "name": "stdout",
     "output_type": "stream",
     "text": [
      "The Factorial of  100  is  93326215443944152681699238856266700490715968264381621468592963895217599993229915608941463976156518286253697920827223758251185210916864000000000000000000000000\n"
     ]
    }
   ],
   "source": [
    "def factorial_memoization(n):\n",
    "    cache = {}\n",
    "    def recursive_factorial(n):\n",
    "        if (n == 1):\n",
    "            return 1\n",
    "        if (n >= 2):\n",
    "            cache[n] = n*recursive_factorial(n -1)\n",
    "            return cache[n]\n",
    "    return recursive_factorial(n)\n",
    "\n",
    "def main_function(number):\n",
    "    print(\"The Factorial of \", number, \" is \", factorial_memoization(number))\n",
    "    \n",
    "main_function(100)\n"
   ]
  },
  {
   "cell_type": "markdown",
   "id": "2227ea12",
   "metadata": {},
   "source": [
    "If we analyze the complexity of this implementation we obtain that it is O(n) since the recursive function need to be called n times, however, by using memoization, its efficiency increases and \n",
    "\n",
    "### 2. Then, we have to analyze its runtime by:"
   ]
  },
  {
   "cell_type": "code",
   "execution_count": 2,
   "id": "a46dc058",
   "metadata": {},
   "outputs": [
    {
     "name": "stdout",
     "output_type": "stream",
     "text": [
      "Process Started\n"
     ]
    },
    {
     "data": {
      "image/png": "[encoded data removed]",
      "text/plain": [
       "<Figure size 648x288 with 1 Axes>"
      ]
     },
     "metadata": {
      "needs_background": "light"
     },
     "output_type": "display_data"
    }
   ],
   "source": [
    "import pandas as pd\n",
    "import numpy as np\n",
    "import matplotlib.pyplot as plt\n",
    "%matplotlib inline \n",
    "from time import time\n",
    "def estimate_runtime(function):\n",
    "    \"\"\"\n",
    "    Implementation of function that estimates the runtime of a given function and that will be used as decorator.\n",
    "    \"\"\"\n",
    "    def wrap_f(*args, **kwargs):\n",
    "        t1 = time()*10**3 #Time in MiliSeconds\n",
    "        result = function(*args, **kwargs)\n",
    "        t2 = time()*10**3\n",
    "        return result, t2-t1\n",
    "    return wrap_f\n",
    "\n",
    "@estimate_runtime\n",
    "def factorial_memoization(n):\n",
    "    cache = {}\n",
    "    def recursive_factorial(n):\n",
    "        if (n == 1):\n",
    "            return 1\n",
    "        if (n >= 2):\n",
    "            cache[n] = n*recursive_factorial(n -1)\n",
    "            return cache[n]\n",
    "    return recursive_factorial(n)\n",
    "\n",
    "# Process for obtaining the running time\n",
    "print(\"Process Started\")\n",
    "runtime = [factorial_memoization(x)[1] for x in range (1, 1000)]\n",
    "\n",
    "# Plotting of running times\n",
    "df = pd.DataFrame()\n",
    "df[\"n\"] = [x for x in range (1, 1000)]\n",
    "df[\"Factorial\"] = runtime\n",
    "df.plot(x='n',figsize=(9,4))\n",
    "plt.xlabel('n')\n",
    "plt.grid()"
   ]
  },
  {
   "cell_type": "markdown",
   "id": "13de4ba5",
   "metadata": {},
   "source": [
    "### Conclusion:\n",
    "How does the first implementation and the one with memoization compare?\n",
    "\n",
    "First, in order to analyze both implementations the value of a 1000 was only used, since if a higher value was used the amount of memory required starts to increase drasticlly and that is why an error of \"Death Kernel\" appears.\n",
    "\n",
    "However, despite only using 1000 values to calculate its factorial in both implementations, a clear tendency is obtained, having that the memoization implementation appears to have a constant running time that grows really slowly compared to the regular one. Keeping an average running time of 1 Milisecond for the memoization implementation, and having that the regular implementation starts growing way faster, reaching up to 14 Miliseconds.\n",
    "\n",
    "In conclusion, the implementation of factorial with memoization is way better, and its efficiency and running time is highly improved."
   ]
  }
 ],
 "metadata": {
  "kernelspec": {
   "display_name": "Python 3 (ipykernel)",
   "language": "python",
   "name": "python3"
  },
  "language_info": {
   "codemirror_mode": {
    "name": "ipython",
    "version": 3
   },
   "file_extension": ".py",
   "mimetype": "text/x-python",
   "name": "python",
   "nbconvert_exporter": "python",
   "pygments_lexer": "ipython3",
   "version": "3.9.12"
  }
 },
 "nbformat": 4,
 "nbformat_minor": 5
}
